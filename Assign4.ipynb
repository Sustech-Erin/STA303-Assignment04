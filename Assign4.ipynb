{
 "cells": [
  {
   "cell_type": "code",
   "execution_count": 1,
   "id": "ccc644fb",
   "metadata": {
    "execution": {
     "iopub.execute_input": "2024-01-13T14:00:26.223854Z",
     "iopub.status.busy": "2024-01-13T14:00:26.223440Z",
     "iopub.status.idle": "2024-01-13T14:00:28.101156Z",
     "shell.execute_reply": "2024-01-13T14:00:28.099832Z",
     "shell.execute_reply.started": "2024-01-13T14:00:26.223811Z"
    },
    "tags": []
   },
   "outputs": [
    {
     "name": "stdout",
     "output_type": "stream",
     "text": [
      "Looking in indexes: https://pypi.tuna.tsinghua.edu.cn/simple\n",
      "Collecting torchcp\n",
      "  Downloading https://pypi.tuna.tsinghua.edu.cn/packages/08/38/2f3468393a336720de2db7a08b1a70ec762e8741d46dad9e24762ff77cce/torchcp-0.1.2-py3-none-any.whl (54 kB)\n",
      "\u001b[2K     \u001b[90m━━━━━━━━━━━━━━━━━━━━━━━━━━━━━━━━━━━━━━━━\u001b[0m \u001b[32m54.5/54.5 kB\u001b[0m \u001b[31m1.1 MB/s\u001b[0m eta \u001b[36m0:00:00\u001b[0mta \u001b[36m0:00:01\u001b[0m\n",
      "\u001b[?25hInstalling collected packages: torchcp\n",
      "Successfully installed torchcp-0.1.2\n",
      "\u001b[33mWARNING: Running pip as the 'root' user can result in broken permissions and conflicting behaviour with the system package manager. It is recommended to use a virtual environment instead: https://pip.pypa.io/warnings/venv\u001b[0m\u001b[33m\n",
      "\u001b[0mNote: you may need to restart the kernel to use updated packages.\n"
     ]
    }
   ],
   "source": [
    "pip install torchcp"
   ]
  },
  {
   "cell_type": "code",
   "execution_count": 2,
   "id": "426277ae",
   "metadata": {
    "execution": {
     "iopub.execute_input": "2024-01-13T14:00:28.770485Z",
     "iopub.status.busy": "2024-01-13T14:00:28.770107Z",
     "iopub.status.idle": "2024-01-13T14:00:30.455118Z",
     "shell.execute_reply": "2024-01-13T14:00:30.454538Z",
     "shell.execute_reply.started": "2024-01-13T14:00:28.770444Z"
    },
    "tags": []
   },
   "outputs": [],
   "source": [
    "import argparse\n",
    "import os\n",
    "\n",
    "import torch\n",
    "import torchvision\n",
    "import torchvision.datasets as dset\n",
    "from torchvision import transforms\n",
    "from tqdm import tqdm\n",
    "\n",
    "from torchcp.classification.predictors import ClusterPredictor, ClassWisePredictor, SplitPredictor\n",
    "from torchcp.classification.scores import THR, APS, SAPS, RAPS\n",
    "from torchcp.classification import Metrics\n",
    "from torchcp.utils import fix_randomness\n",
    "from examples.common.dataset import build_dataset\n",
    "\n",
    "from torchvision.datasets import ImageFolder\n",
    "from torch.utils.data import DataLoader\n"
   ]
  },
  {
   "cell_type": "markdown",
   "id": "1fa43f0f",
   "metadata": {},
   "source": [
    "# 参数设置"
   ]
  },
  {
   "cell_type": "code",
   "execution_count": 3,
   "id": "554a869d",
   "metadata": {
    "execution": {
     "iopub.execute_input": "2024-01-13T14:00:32.042550Z",
     "iopub.status.busy": "2024-01-13T14:00:32.042196Z",
     "iopub.status.idle": "2024-01-13T14:00:32.045764Z",
     "shell.execute_reply": "2024-01-13T14:00:32.045198Z",
     "shell.execute_reply.started": "2024-01-13T14:00:32.042530Z"
    },
    "tags": []
   },
   "outputs": [],
   "source": [
    "alpha = 0.1"
   ]
  },
  {
   "cell_type": "markdown",
   "id": "5b67cbfb",
   "metadata": {},
   "source": [
    "# 加载设置模型"
   ]
  },
  {
   "cell_type": "code",
   "execution_count": 4,
   "id": "e4b8959a",
   "metadata": {
    "collapsed": true,
    "execution": {
     "iopub.execute_input": "2024-01-13T14:00:33.412496Z",
     "iopub.status.busy": "2024-01-13T14:00:33.412071Z",
     "iopub.status.idle": "2024-01-13T14:00:35.202109Z",
     "shell.execute_reply": "2024-01-13T14:00:35.201393Z",
     "shell.execute_reply.started": "2024-01-13T14:00:33.412457Z"
    },
    "jupyter": {
     "outputs_hidden": true
    },
    "tags": []
   },
   "outputs": [
    {
     "data": {
      "text/plain": [
       "ResNet(\n",
       "  (conv1): Conv2d(3, 64, kernel_size=(7, 7), stride=(2, 2), padding=(3, 3), bias=False)\n",
       "  (bn1): BatchNorm2d(64, eps=1e-05, momentum=0.1, affine=True, track_running_stats=True)\n",
       "  (relu): ReLU(inplace=True)\n",
       "  (maxpool): MaxPool2d(kernel_size=3, stride=2, padding=1, dilation=1, ceil_mode=False)\n",
       "  (layer1): Sequential(\n",
       "    (0): Bottleneck(\n",
       "      (conv1): Conv2d(64, 64, kernel_size=(1, 1), stride=(1, 1), bias=False)\n",
       "      (bn1): BatchNorm2d(64, eps=1e-05, momentum=0.1, affine=True, track_running_stats=True)\n",
       "      (conv2): Conv2d(64, 64, kernel_size=(3, 3), stride=(1, 1), padding=(1, 1), bias=False)\n",
       "      (bn2): BatchNorm2d(64, eps=1e-05, momentum=0.1, affine=True, track_running_stats=True)\n",
       "      (conv3): Conv2d(64, 256, kernel_size=(1, 1), stride=(1, 1), bias=False)\n",
       "      (bn3): BatchNorm2d(256, eps=1e-05, momentum=0.1, affine=True, track_running_stats=True)\n",
       "      (relu): ReLU(inplace=True)\n",
       "      (downsample): Sequential(\n",
       "        (0): Conv2d(64, 256, kernel_size=(1, 1), stride=(1, 1), bias=False)\n",
       "        (1): BatchNorm2d(256, eps=1e-05, momentum=0.1, affine=True, track_running_stats=True)\n",
       "      )\n",
       "    )\n",
       "    (1): Bottleneck(\n",
       "      (conv1): Conv2d(256, 64, kernel_size=(1, 1), stride=(1, 1), bias=False)\n",
       "      (bn1): BatchNorm2d(64, eps=1e-05, momentum=0.1, affine=True, track_running_stats=True)\n",
       "      (conv2): Conv2d(64, 64, kernel_size=(3, 3), stride=(1, 1), padding=(1, 1), bias=False)\n",
       "      (bn2): BatchNorm2d(64, eps=1e-05, momentum=0.1, affine=True, track_running_stats=True)\n",
       "      (conv3): Conv2d(64, 256, kernel_size=(1, 1), stride=(1, 1), bias=False)\n",
       "      (bn3): BatchNorm2d(256, eps=1e-05, momentum=0.1, affine=True, track_running_stats=True)\n",
       "      (relu): ReLU(inplace=True)\n",
       "    )\n",
       "    (2): Bottleneck(\n",
       "      (conv1): Conv2d(256, 64, kernel_size=(1, 1), stride=(1, 1), bias=False)\n",
       "      (bn1): BatchNorm2d(64, eps=1e-05, momentum=0.1, affine=True, track_running_stats=True)\n",
       "      (conv2): Conv2d(64, 64, kernel_size=(3, 3), stride=(1, 1), padding=(1, 1), bias=False)\n",
       "      (bn2): BatchNorm2d(64, eps=1e-05, momentum=0.1, affine=True, track_running_stats=True)\n",
       "      (conv3): Conv2d(64, 256, kernel_size=(1, 1), stride=(1, 1), bias=False)\n",
       "      (bn3): BatchNorm2d(256, eps=1e-05, momentum=0.1, affine=True, track_running_stats=True)\n",
       "      (relu): ReLU(inplace=True)\n",
       "    )\n",
       "  )\n",
       "  (layer2): Sequential(\n",
       "    (0): Bottleneck(\n",
       "      (conv1): Conv2d(256, 128, kernel_size=(1, 1), stride=(1, 1), bias=False)\n",
       "      (bn1): BatchNorm2d(128, eps=1e-05, momentum=0.1, affine=True, track_running_stats=True)\n",
       "      (conv2): Conv2d(128, 128, kernel_size=(3, 3), stride=(2, 2), padding=(1, 1), bias=False)\n",
       "      (bn2): BatchNorm2d(128, eps=1e-05, momentum=0.1, affine=True, track_running_stats=True)\n",
       "      (conv3): Conv2d(128, 512, kernel_size=(1, 1), stride=(1, 1), bias=False)\n",
       "      (bn3): BatchNorm2d(512, eps=1e-05, momentum=0.1, affine=True, track_running_stats=True)\n",
       "      (relu): ReLU(inplace=True)\n",
       "      (downsample): Sequential(\n",
       "        (0): Conv2d(256, 512, kernel_size=(1, 1), stride=(2, 2), bias=False)\n",
       "        (1): BatchNorm2d(512, eps=1e-05, momentum=0.1, affine=True, track_running_stats=True)\n",
       "      )\n",
       "    )\n",
       "    (1): Bottleneck(\n",
       "      (conv1): Conv2d(512, 128, kernel_size=(1, 1), stride=(1, 1), bias=False)\n",
       "      (bn1): BatchNorm2d(128, eps=1e-05, momentum=0.1, affine=True, track_running_stats=True)\n",
       "      (conv2): Conv2d(128, 128, kernel_size=(3, 3), stride=(1, 1), padding=(1, 1), bias=False)\n",
       "      (bn2): BatchNorm2d(128, eps=1e-05, momentum=0.1, affine=True, track_running_stats=True)\n",
       "      (conv3): Conv2d(128, 512, kernel_size=(1, 1), stride=(1, 1), bias=False)\n",
       "      (bn3): BatchNorm2d(512, eps=1e-05, momentum=0.1, affine=True, track_running_stats=True)\n",
       "      (relu): ReLU(inplace=True)\n",
       "    )\n",
       "    (2): Bottleneck(\n",
       "      (conv1): Conv2d(512, 128, kernel_size=(1, 1), stride=(1, 1), bias=False)\n",
       "      (bn1): BatchNorm2d(128, eps=1e-05, momentum=0.1, affine=True, track_running_stats=True)\n",
       "      (conv2): Conv2d(128, 128, kernel_size=(3, 3), stride=(1, 1), padding=(1, 1), bias=False)\n",
       "      (bn2): BatchNorm2d(128, eps=1e-05, momentum=0.1, affine=True, track_running_stats=True)\n",
       "      (conv3): Conv2d(128, 512, kernel_size=(1, 1), stride=(1, 1), bias=False)\n",
       "      (bn3): BatchNorm2d(512, eps=1e-05, momentum=0.1, affine=True, track_running_stats=True)\n",
       "      (relu): ReLU(inplace=True)\n",
       "    )\n",
       "    (3): Bottleneck(\n",
       "      (conv1): Conv2d(512, 128, kernel_size=(1, 1), stride=(1, 1), bias=False)\n",
       "      (bn1): BatchNorm2d(128, eps=1e-05, momentum=0.1, affine=True, track_running_stats=True)\n",
       "      (conv2): Conv2d(128, 128, kernel_size=(3, 3), stride=(1, 1), padding=(1, 1), bias=False)\n",
       "      (bn2): BatchNorm2d(128, eps=1e-05, momentum=0.1, affine=True, track_running_stats=True)\n",
       "      (conv3): Conv2d(128, 512, kernel_size=(1, 1), stride=(1, 1), bias=False)\n",
       "      (bn3): BatchNorm2d(512, eps=1e-05, momentum=0.1, affine=True, track_running_stats=True)\n",
       "      (relu): ReLU(inplace=True)\n",
       "    )\n",
       "  )\n",
       "  (layer3): Sequential(\n",
       "    (0): Bottleneck(\n",
       "      (conv1): Conv2d(512, 256, kernel_size=(1, 1), stride=(1, 1), bias=False)\n",
       "      (bn1): BatchNorm2d(256, eps=1e-05, momentum=0.1, affine=True, track_running_stats=True)\n",
       "      (conv2): Conv2d(256, 256, kernel_size=(3, 3), stride=(2, 2), padding=(1, 1), bias=False)\n",
       "      (bn2): BatchNorm2d(256, eps=1e-05, momentum=0.1, affine=True, track_running_stats=True)\n",
       "      (conv3): Conv2d(256, 1024, kernel_size=(1, 1), stride=(1, 1), bias=False)\n",
       "      (bn3): BatchNorm2d(1024, eps=1e-05, momentum=0.1, affine=True, track_running_stats=True)\n",
       "      (relu): ReLU(inplace=True)\n",
       "      (downsample): Sequential(\n",
       "        (0): Conv2d(512, 1024, kernel_size=(1, 1), stride=(2, 2), bias=False)\n",
       "        (1): BatchNorm2d(1024, eps=1e-05, momentum=0.1, affine=True, track_running_stats=True)\n",
       "      )\n",
       "    )\n",
       "    (1): Bottleneck(\n",
       "      (conv1): Conv2d(1024, 256, kernel_size=(1, 1), stride=(1, 1), bias=False)\n",
       "      (bn1): BatchNorm2d(256, eps=1e-05, momentum=0.1, affine=True, track_running_stats=True)\n",
       "      (conv2): Conv2d(256, 256, kernel_size=(3, 3), stride=(1, 1), padding=(1, 1), bias=False)\n",
       "      (bn2): BatchNorm2d(256, eps=1e-05, momentum=0.1, affine=True, track_running_stats=True)\n",
       "      (conv3): Conv2d(256, 1024, kernel_size=(1, 1), stride=(1, 1), bias=False)\n",
       "      (bn3): BatchNorm2d(1024, eps=1e-05, momentum=0.1, affine=True, track_running_stats=True)\n",
       "      (relu): ReLU(inplace=True)\n",
       "    )\n",
       "    (2): Bottleneck(\n",
       "      (conv1): Conv2d(1024, 256, kernel_size=(1, 1), stride=(1, 1), bias=False)\n",
       "      (bn1): BatchNorm2d(256, eps=1e-05, momentum=0.1, affine=True, track_running_stats=True)\n",
       "      (conv2): Conv2d(256, 256, kernel_size=(3, 3), stride=(1, 1), padding=(1, 1), bias=False)\n",
       "      (bn2): BatchNorm2d(256, eps=1e-05, momentum=0.1, affine=True, track_running_stats=True)\n",
       "      (conv3): Conv2d(256, 1024, kernel_size=(1, 1), stride=(1, 1), bias=False)\n",
       "      (bn3): BatchNorm2d(1024, eps=1e-05, momentum=0.1, affine=True, track_running_stats=True)\n",
       "      (relu): ReLU(inplace=True)\n",
       "    )\n",
       "    (3): Bottleneck(\n",
       "      (conv1): Conv2d(1024, 256, kernel_size=(1, 1), stride=(1, 1), bias=False)\n",
       "      (bn1): BatchNorm2d(256, eps=1e-05, momentum=0.1, affine=True, track_running_stats=True)\n",
       "      (conv2): Conv2d(256, 256, kernel_size=(3, 3), stride=(1, 1), padding=(1, 1), bias=False)\n",
       "      (bn2): BatchNorm2d(256, eps=1e-05, momentum=0.1, affine=True, track_running_stats=True)\n",
       "      (conv3): Conv2d(256, 1024, kernel_size=(1, 1), stride=(1, 1), bias=False)\n",
       "      (bn3): BatchNorm2d(1024, eps=1e-05, momentum=0.1, affine=True, track_running_stats=True)\n",
       "      (relu): ReLU(inplace=True)\n",
       "    )\n",
       "    (4): Bottleneck(\n",
       "      (conv1): Conv2d(1024, 256, kernel_size=(1, 1), stride=(1, 1), bias=False)\n",
       "      (bn1): BatchNorm2d(256, eps=1e-05, momentum=0.1, affine=True, track_running_stats=True)\n",
       "      (conv2): Conv2d(256, 256, kernel_size=(3, 3), stride=(1, 1), padding=(1, 1), bias=False)\n",
       "      (bn2): BatchNorm2d(256, eps=1e-05, momentum=0.1, affine=True, track_running_stats=True)\n",
       "      (conv3): Conv2d(256, 1024, kernel_size=(1, 1), stride=(1, 1), bias=False)\n",
       "      (bn3): BatchNorm2d(1024, eps=1e-05, momentum=0.1, affine=True, track_running_stats=True)\n",
       "      (relu): ReLU(inplace=True)\n",
       "    )\n",
       "    (5): Bottleneck(\n",
       "      (conv1): Conv2d(1024, 256, kernel_size=(1, 1), stride=(1, 1), bias=False)\n",
       "      (bn1): BatchNorm2d(256, eps=1e-05, momentum=0.1, affine=True, track_running_stats=True)\n",
       "      (conv2): Conv2d(256, 256, kernel_size=(3, 3), stride=(1, 1), padding=(1, 1), bias=False)\n",
       "      (bn2): BatchNorm2d(256, eps=1e-05, momentum=0.1, affine=True, track_running_stats=True)\n",
       "      (conv3): Conv2d(256, 1024, kernel_size=(1, 1), stride=(1, 1), bias=False)\n",
       "      (bn3): BatchNorm2d(1024, eps=1e-05, momentum=0.1, affine=True, track_running_stats=True)\n",
       "      (relu): ReLU(inplace=True)\n",
       "    )\n",
       "  )\n",
       "  (layer4): Sequential(\n",
       "    (0): Bottleneck(\n",
       "      (conv1): Conv2d(1024, 512, kernel_size=(1, 1), stride=(1, 1), bias=False)\n",
       "      (bn1): BatchNorm2d(512, eps=1e-05, momentum=0.1, affine=True, track_running_stats=True)\n",
       "      (conv2): Conv2d(512, 512, kernel_size=(3, 3), stride=(2, 2), padding=(1, 1), bias=False)\n",
       "      (bn2): BatchNorm2d(512, eps=1e-05, momentum=0.1, affine=True, track_running_stats=True)\n",
       "      (conv3): Conv2d(512, 2048, kernel_size=(1, 1), stride=(1, 1), bias=False)\n",
       "      (bn3): BatchNorm2d(2048, eps=1e-05, momentum=0.1, affine=True, track_running_stats=True)\n",
       "      (relu): ReLU(inplace=True)\n",
       "      (downsample): Sequential(\n",
       "        (0): Conv2d(1024, 2048, kernel_size=(1, 1), stride=(2, 2), bias=False)\n",
       "        (1): BatchNorm2d(2048, eps=1e-05, momentum=0.1, affine=True, track_running_stats=True)\n",
       "      )\n",
       "    )\n",
       "    (1): Bottleneck(\n",
       "      (conv1): Conv2d(2048, 512, kernel_size=(1, 1), stride=(1, 1), bias=False)\n",
       "      (bn1): BatchNorm2d(512, eps=1e-05, momentum=0.1, affine=True, track_running_stats=True)\n",
       "      (conv2): Conv2d(512, 512, kernel_size=(3, 3), stride=(1, 1), padding=(1, 1), bias=False)\n",
       "      (bn2): BatchNorm2d(512, eps=1e-05, momentum=0.1, affine=True, track_running_stats=True)\n",
       "      (conv3): Conv2d(512, 2048, kernel_size=(1, 1), stride=(1, 1), bias=False)\n",
       "      (bn3): BatchNorm2d(2048, eps=1e-05, momentum=0.1, affine=True, track_running_stats=True)\n",
       "      (relu): ReLU(inplace=True)\n",
       "    )\n",
       "    (2): Bottleneck(\n",
       "      (conv1): Conv2d(2048, 512, kernel_size=(1, 1), stride=(1, 1), bias=False)\n",
       "      (bn1): BatchNorm2d(512, eps=1e-05, momentum=0.1, affine=True, track_running_stats=True)\n",
       "      (conv2): Conv2d(512, 512, kernel_size=(3, 3), stride=(1, 1), padding=(1, 1), bias=False)\n",
       "      (bn2): BatchNorm2d(512, eps=1e-05, momentum=0.1, affine=True, track_running_stats=True)\n",
       "      (conv3): Conv2d(512, 2048, kernel_size=(1, 1), stride=(1, 1), bias=False)\n",
       "      (bn3): BatchNorm2d(2048, eps=1e-05, momentum=0.1, affine=True, track_running_stats=True)\n",
       "      (relu): ReLU(inplace=True)\n",
       "    )\n",
       "  )\n",
       "  (avgpool): AdaptiveAvgPool2d(output_size=(1, 1))\n",
       "  (fc): Linear(in_features=2048, out_features=1000, bias=True)\n",
       ")"
      ]
     },
     "execution_count": 4,
     "metadata": {},
     "output_type": "execute_result"
    }
   ],
   "source": [
    "model_name = 'resnet50'\n",
    "model = torchvision.models.resnet50(weights=\"IMAGENET1K_V1\", progress=True)\n",
    "model_device = torch.device(\"cuda:0\" if torch.cuda.is_available() else \"cpu\")\n",
    "model.to(model_device)"
   ]
  },
  {
   "cell_type": "markdown",
   "id": "6ca03b30",
   "metadata": {
    "jupyter": {
     "outputs_hidden": true
    }
   },
   "source": [
    "# 数据集选择"
   ]
  },
  {
   "cell_type": "markdown",
   "id": "ccb84136",
   "metadata": {},
   "source": [
    "## MNIST"
   ]
  },
  {
   "cell_type": "code",
   "execution_count": 51,
   "id": "bbb86139",
   "metadata": {
    "execution": {
     "iopub.execute_input": "2024-01-13T08:34:50.306659Z",
     "iopub.status.busy": "2024-01-13T08:34:50.306209Z",
     "iopub.status.idle": "2024-01-13T08:34:50.360668Z",
     "shell.execute_reply": "2024-01-13T08:34:50.360090Z",
     "shell.execute_reply.started": "2024-01-13T08:34:50.306617Z"
    },
    "tags": []
   },
   "outputs": [],
   "source": [
    "transform = transforms.Compose([\n",
    "    transforms.Resize((224, 224)),\n",
    "    transforms.ToTensor(),\n",
    "    transforms.Lambda(lambda x:x.repeat(3,1,1))\n",
    "])\n",
    "dataset = torchvision.datasets.MNIST(root='/shareddata', download=True,train=True,transform = transform)\n",
    "cal_dataset, test_dataset = torch.utils.data.random_split(dataset, [30000, 30000])#两个数字之和要等于数据集总长度\n",
    "cal_data_loader = torch.utils.data.DataLoader(cal_dataset, batch_size=1024, shuffle=False, pin_memory=True)\n",
    "test_data_loader = torch.utils.data.DataLoader(test_dataset, batch_size=1024, shuffle=False, pin_memory=True)"
   ]
  },
  {
   "cell_type": "markdown",
   "id": "2b094642",
   "metadata": {},
   "source": [
    "## Flowers102"
   ]
  },
  {
   "cell_type": "code",
   "execution_count": 8,
   "id": "802adf6e",
   "metadata": {
    "execution": {
     "iopub.execute_input": "2024-01-13T09:29:39.147440Z",
     "iopub.status.busy": "2024-01-13T09:29:39.147169Z",
     "iopub.status.idle": "2024-01-13T09:31:40.395672Z",
     "shell.execute_reply": "2024-01-13T09:31:40.395079Z",
     "shell.execute_reply.started": "2024-01-13T09:29:39.147415Z"
    },
    "tags": []
   },
   "outputs": [
    {
     "name": "stdout",
     "output_type": "stream",
     "text": [
      "Downloading https://thor.robots.ox.ac.uk/datasets/flowers-102/102flowers.tgz to /home/flowers-102/102flowers.tgz\n"
     ]
    },
    {
     "name": "stderr",
     "output_type": "stream",
     "text": [
      "100%|██████████| 344862509/344862509 [01:46<00:00, 3248015.67it/s]\n"
     ]
    },
    {
     "name": "stdout",
     "output_type": "stream",
     "text": [
      "Extracting /home/flowers-102/102flowers.tgz to /home/flowers-102\n",
      "Downloading https://thor.robots.ox.ac.uk/datasets/flowers-102/imagelabels.mat to /home/flowers-102/imagelabels.mat\n"
     ]
    },
    {
     "name": "stderr",
     "output_type": "stream",
     "text": [
      "100%|██████████| 502/502 [00:00<00:00, 365164.86it/s]\n"
     ]
    },
    {
     "name": "stdout",
     "output_type": "stream",
     "text": [
      "Downloading https://thor.robots.ox.ac.uk/datasets/flowers-102/setid.mat to /home/flowers-102/setid.mat\n"
     ]
    },
    {
     "name": "stderr",
     "output_type": "stream",
     "text": [
      "100%|██████████| 14989/14989 [00:00<00:00, 8516448.48it/s]\n"
     ]
    }
   ],
   "source": [
    "transform = transforms.Compose([\n",
    "    transforms.Resize((224, 224)),  # 调整图像大小\n",
    "    transforms.ToTensor(),           # 将图像转换为张量\n",
    "])\n",
    "\n",
    "dataset = torchvision.datasets.Flowers102(root='/home/', download=True,split='train',transform = transform)\n",
    "\n",
    "train_ratio = 0.5  # 训练集占50%\n",
    "test_ratio = 1 - train_ratio  # 测试集占50%\n",
    "\n",
    "# 计算划分的样本数量\n",
    "num_train = int(len(dataset) * train_ratio)\n",
    "num_test = len(dataset) - num_train\n",
    "\n",
    "# 划分数据集\n",
    "cal_dataset, test_dataset = torch.utils.data.random_split(dataset, [num_train, num_test])\n",
    "\n",
    "cal_data_loader = torch.utils.data.DataLoader(cal_dataset, batch_size=1024, shuffle=False, pin_memory=True)\n",
    "test_data_loader = torch.utils.data.DataLoader(test_dataset, batch_size=1024, shuffle=False, pin_memory=True)"
   ]
  },
  {
   "cell_type": "markdown",
   "id": "16aa619a",
   "metadata": {},
   "source": [
    "# EuroSAT"
   ]
  },
  {
   "cell_type": "code",
   "execution_count": 5,
   "id": "b5e9331c",
   "metadata": {
    "execution": {
     "iopub.execute_input": "2024-01-13T14:00:41.015924Z",
     "iopub.status.busy": "2024-01-13T14:00:41.015463Z",
     "iopub.status.idle": "2024-01-13T14:00:41.306574Z",
     "shell.execute_reply": "2024-01-13T14:00:41.305447Z",
     "shell.execute_reply.started": "2024-01-13T14:00:41.015880Z"
    },
    "tags": []
   },
   "outputs": [],
   "source": [
    "transform = transforms.Compose([\n",
    "    transforms.Resize((224, 224)),  # 调整图像大小\n",
    "    transforms.ToTensor(),           # 将图像转换为张量\n",
    "])\n",
    "\n",
    "\n",
    "dataset = ImageFolder(root='/openbayes/input/input0', transform=transform)\n",
    "\n",
    "train_ratio = 0.5  # 训练集占50%\n",
    "test_ratio = 1 - train_ratio  # 测试集占50%\n",
    "\n",
    "# 计算划分的样本数量\n",
    "num_train = int(len(dataset) * train_ratio)\n",
    "num_test = len(dataset) - num_train\n",
    "\n",
    "# 划分数据集\n",
    "cal_dataset, test_dataset = torch.utils.data.random_split(dataset, [num_train, num_test])\n",
    "\n",
    "cal_data_loader = torch.utils.data.DataLoader(cal_dataset, batch_size=1024, shuffle=False, pin_memory=True)\n",
    "test_data_loader = torch.utils.data.DataLoader(test_dataset, batch_size=1024, shuffle=False, pin_memory=True)"
   ]
  },
  {
   "cell_type": "markdown",
   "id": "c38f94e3",
   "metadata": {},
   "source": [
    "# CP scores"
   ]
  },
  {
   "cell_type": "markdown",
   "id": "f1b295a3",
   "metadata": {},
   "source": [
    "## THR"
   ]
  },
  {
   "cell_type": "code",
   "execution_count": 6,
   "id": "7e1dce36",
   "metadata": {
    "execution": {
     "iopub.execute_input": "2024-01-13T14:00:45.439870Z",
     "iopub.status.busy": "2024-01-13T14:00:45.439386Z",
     "iopub.status.idle": "2024-01-13T14:00:45.444844Z",
     "shell.execute_reply": "2024-01-13T14:00:45.443858Z",
     "shell.execute_reply.started": "2024-01-13T14:00:45.439819Z"
    },
    "tags": []
   },
   "outputs": [],
   "source": [
    "score_function = THR()"
   ]
  },
  {
   "cell_type": "code",
   "execution_count": 14,
   "id": "e3249c14",
   "metadata": {
    "execution": {
     "iopub.execute_input": "2024-01-13T09:56:05.468546Z",
     "iopub.status.busy": "2024-01-13T09:56:05.468247Z",
     "iopub.status.idle": "2024-01-13T09:56:05.471897Z",
     "shell.execute_reply": "2024-01-13T09:56:05.471344Z",
     "shell.execute_reply.started": "2024-01-13T09:56:05.468520Z"
    },
    "tags": []
   },
   "outputs": [],
   "source": [
    "score_function = APS()"
   ]
  },
  {
   "cell_type": "markdown",
   "id": "32041f0c",
   "metadata": {},
   "source": [
    "# Predictors"
   ]
  },
  {
   "cell_type": "markdown",
   "id": "0d261422",
   "metadata": {},
   "source": [
    "## SplitPredictor"
   ]
  },
  {
   "cell_type": "code",
   "execution_count": 15,
   "id": "44928426",
   "metadata": {
    "execution": {
     "iopub.execute_input": "2024-01-13T09:56:07.733196Z",
     "iopub.status.busy": "2024-01-13T09:56:07.732779Z",
     "iopub.status.idle": "2024-01-13T09:56:07.738209Z",
     "shell.execute_reply": "2024-01-13T09:56:07.737377Z",
     "shell.execute_reply.started": "2024-01-13T09:56:07.733156Z"
    },
    "tags": []
   },
   "outputs": [],
   "source": [
    "predictor = SplitPredictor(score_function, model)"
   ]
  },
  {
   "cell_type": "code",
   "execution_count": 17,
   "id": "50cdcbbc",
   "metadata": {
    "execution": {
     "iopub.execute_input": "2024-01-13T09:58:39.295988Z",
     "iopub.status.busy": "2024-01-13T09:58:39.295566Z",
     "iopub.status.idle": "2024-01-13T09:58:39.299066Z",
     "shell.execute_reply": "2024-01-13T09:58:39.298569Z",
     "shell.execute_reply.started": "2024-01-13T09:58:39.295969Z"
    },
    "tags": []
   },
   "outputs": [],
   "source": [
    "predictor = ClusterPredictor(score_function, model)"
   ]
  },
  {
   "cell_type": "code",
   "execution_count": 7,
   "id": "90386991",
   "metadata": {
    "execution": {
     "iopub.execute_input": "2024-01-13T14:00:49.987368Z",
     "iopub.status.busy": "2024-01-13T14:00:49.986932Z",
     "iopub.status.idle": "2024-01-13T14:00:49.994300Z",
     "shell.execute_reply": "2024-01-13T14:00:49.993109Z",
     "shell.execute_reply.started": "2024-01-13T14:00:49.987326Z"
    },
    "tags": []
   },
   "outputs": [],
   "source": [
    "predictor = ClassWisePredictor(score_function, model)"
   ]
  },
  {
   "cell_type": "markdown",
   "id": "548215c7",
   "metadata": {},
   "source": [
    "# Result"
   ]
  },
  {
   "cell_type": "code",
   "execution_count": null,
   "id": "dd707f1c",
   "metadata": {
    "execution": {
     "iopub.execute_input": "2024-01-13T14:00:52.083403Z",
     "iopub.status.busy": "2024-01-13T14:00:52.082965Z"
    },
    "tags": []
   },
   "outputs": [
    {
     "name": "stderr",
     "output_type": "stream",
     "text": [
      "/usr/local/lib/python3.8/site-packages/torchcp/classification/predictors/split.py:61: UserWarning: The number of scores is 0, which is a invalid scores. To avoid program crash, the threshold is set as torch.inf.\n",
      "  warnings.warn(\n"
     ]
    }
   ],
   "source": [
    "predictor.calibrate(cal_data_loader, alpha)\n",
    "predictor.evaluate(test_data_loader)"
   ]
  },
  {
   "cell_type": "code",
   "execution_count": null,
   "id": "cfe9bc9d",
   "metadata": {},
   "outputs": [],
   "source": []
  }
 ],
 "metadata": {
  "kernelspec": {
   "display_name": "Python 3 (ipykernel)",
   "language": "python",
   "name": "python3"
  },
  "language_info": {
   "codemirror_mode": {
    "name": "ipython",
    "version": 3
   },
   "file_extension": ".py",
   "mimetype": "text/x-python",
   "name": "python",
   "nbconvert_exporter": "python",
   "pygments_lexer": "ipython3",
   "version": "3.10.12"
  }
 },
 "nbformat": 4,
 "nbformat_minor": 5
}
